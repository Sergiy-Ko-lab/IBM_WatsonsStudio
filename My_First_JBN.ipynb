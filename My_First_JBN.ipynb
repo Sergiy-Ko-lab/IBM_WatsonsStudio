{
    "cells": [
        {
            "cell_type": "code",
            "execution_count": 1,
            "metadata": {
                "id": "04f3a61c-ffdb-4ac5-be8e-85ea9cdd673d"
            },
            "outputs": [
                {
                    "data": {
                        "text/html": "<div>\n<style scoped>\n    .dataframe tbody tr th:only-of-type {\n        vertical-align: middle;\n    }\n\n    .dataframe tbody tr th {\n        vertical-align: top;\n    }\n\n    .dataframe thead th {\n        text-align: right;\n    }\n</style>\n<table border=\"1\" class=\"dataframe\">\n  <thead>\n    <tr style=\"text-align: right;\">\n      <th></th>\n      <th>term</th>\n      <th>score</th>\n      <th>refresh_date</th>\n      <th>region_name</th>\n      <th>region_code</th>\n      <th>week</th>\n      <th>rank</th>\n      <th>country_name</th>\n      <th>country_code</th>\n    </tr>\n  </thead>\n  <tbody>\n    <tr>\n      <th>0</th>\n      <td>\u0406\u0432\u0430\u043d \u0420\u0443\u0434\u043d\u0438\u0446\u044c\u043a\u0438\u0439 \u0421\u0411\u0423</td>\n      <td>100.0</td>\n      <td>2024-11-10</td>\n      <td>Dnipropetrovsk Oblast</td>\n      <td>UA-12</td>\n      <td>2024-11-03</td>\n      <td>14</td>\n      <td>Ukraine</td>\n      <td>UA</td>\n    </tr>\n    <tr>\n      <th>1</th>\n      <td>\u0406\u0432\u0430\u043d \u0420\u0443\u0434\u043d\u0438\u0446\u044c\u043a\u0438\u0439 \u0421\u0411\u0423</td>\n      <td>NaN</td>\n      <td>2024-11-10</td>\n      <td>Crimea</td>\n      <td>UA-43</td>\n      <td>2024-11-03</td>\n      <td>14</td>\n      <td>Ukraine</td>\n      <td>UA</td>\n    </tr>\n    <tr>\n      <th>2</th>\n      <td>\u0406\u0432\u0430\u043d \u0420\u0443\u0434\u043d\u0438\u0446\u044c\u043a\u0438\u0439 \u0421\u0411\u0423</td>\n      <td>NaN</td>\n      <td>2024-11-10</td>\n      <td>Khersons'ka oblast</td>\n      <td>UA-65</td>\n      <td>2024-11-03</td>\n      <td>14</td>\n      <td>Ukraine</td>\n      <td>UA</td>\n    </tr>\n    <tr>\n      <th>3</th>\n      <td>\u0410\u043c\u0441\u0442\u0435\u0440\u0434\u0430\u043c</td>\n      <td>34.0</td>\n      <td>2024-11-10</td>\n      <td>Volyns'ka oblast</td>\n      <td>UA-07</td>\n      <td>2024-11-03</td>\n      <td>21</td>\n      <td>Ukraine</td>\n      <td>UA</td>\n    </tr>\n    <tr>\n      <th>4</th>\n      <td>\u0410\u043c\u0441\u0442\u0435\u0440\u0434\u0430\u043c</td>\n      <td>33.0</td>\n      <td>2024-11-10</td>\n      <td>Zhytomyrs'ka oblast</td>\n      <td>UA-18</td>\n      <td>2024-11-03</td>\n      <td>21</td>\n      <td>Ukraine</td>\n      <td>UA</td>\n    </tr>\n    <tr>\n      <th>5</th>\n      <td>\u0410\u043c\u0441\u0442\u0435\u0440\u0434\u0430\u043c</td>\n      <td>42.0</td>\n      <td>2024-11-10</td>\n      <td>Zaporiz'ka oblast</td>\n      <td>UA-23</td>\n      <td>2024-11-03</td>\n      <td>21</td>\n      <td>Ukraine</td>\n      <td>UA</td>\n    </tr>\n    <tr>\n      <th>6</th>\n      <td>\u0410\u043c\u0441\u0442\u0435\u0440\u0434\u0430\u043c</td>\n      <td>30.0</td>\n      <td>2024-11-10</td>\n      <td>Ivano-Frankivs'ka oblast</td>\n      <td>UA-26</td>\n      <td>2024-11-03</td>\n      <td>21</td>\n      <td>Ukraine</td>\n      <td>UA</td>\n    </tr>\n    <tr>\n      <th>7</th>\n      <td>\u0410\u043c\u0441\u0442\u0435\u0440\u0434\u0430\u043c</td>\n      <td>24.0</td>\n      <td>2024-11-10</td>\n      <td>Kirovohrads'ka oblast</td>\n      <td>UA-35</td>\n      <td>2024-11-03</td>\n      <td>21</td>\n      <td>Ukraine</td>\n      <td>UA</td>\n    </tr>\n    <tr>\n      <th>8</th>\n      <td>\u0410\u043c\u0441\u0442\u0435\u0440\u0434\u0430\u043c</td>\n      <td>33.0</td>\n      <td>2024-11-10</td>\n      <td>Rivnens'ka oblast</td>\n      <td>UA-56</td>\n      <td>2024-11-03</td>\n      <td>21</td>\n      <td>Ukraine</td>\n      <td>UA</td>\n    </tr>\n    <tr>\n      <th>9</th>\n      <td>\u0410\u043c\u0441\u0442\u0435\u0440\u0434\u0430\u043c</td>\n      <td>21.0</td>\n      <td>2024-11-10</td>\n      <td>Sums'ka oblast</td>\n      <td>UA-59</td>\n      <td>2024-11-03</td>\n      <td>21</td>\n      <td>Ukraine</td>\n      <td>UA</td>\n    </tr>\n  </tbody>\n</table>\n</div>",
                        "text/plain": "                  term  score refresh_date               region_name  \\\n0  \u0406\u0432\u0430\u043d \u0420\u0443\u0434\u043d\u0438\u0446\u044c\u043a\u0438\u0439 \u0421\u0411\u0423  100.0   2024-11-10     Dnipropetrovsk Oblast   \n1  \u0406\u0432\u0430\u043d \u0420\u0443\u0434\u043d\u0438\u0446\u044c\u043a\u0438\u0439 \u0421\u0411\u0423    NaN   2024-11-10                    Crimea   \n2  \u0406\u0432\u0430\u043d \u0420\u0443\u0434\u043d\u0438\u0446\u044c\u043a\u0438\u0439 \u0421\u0411\u0423    NaN   2024-11-10        Khersons'ka oblast   \n3            \u0410\u043c\u0441\u0442\u0435\u0440\u0434\u0430\u043c   34.0   2024-11-10          Volyns'ka oblast   \n4            \u0410\u043c\u0441\u0442\u0435\u0440\u0434\u0430\u043c   33.0   2024-11-10       Zhytomyrs'ka oblast   \n5            \u0410\u043c\u0441\u0442\u0435\u0440\u0434\u0430\u043c   42.0   2024-11-10         Zaporiz'ka oblast   \n6            \u0410\u043c\u0441\u0442\u0435\u0440\u0434\u0430\u043c   30.0   2024-11-10  Ivano-Frankivs'ka oblast   \n7            \u0410\u043c\u0441\u0442\u0435\u0440\u0434\u0430\u043c   24.0   2024-11-10     Kirovohrads'ka oblast   \n8            \u0410\u043c\u0441\u0442\u0435\u0440\u0434\u0430\u043c   33.0   2024-11-10         Rivnens'ka oblast   \n9            \u0410\u043c\u0441\u0442\u0435\u0440\u0434\u0430\u043c   21.0   2024-11-10            Sums'ka oblast   \n\n  region_code        week  rank country_name country_code  \n0       UA-12  2024-11-03    14      Ukraine           UA  \n1       UA-43  2024-11-03    14      Ukraine           UA  \n2       UA-65  2024-11-03    14      Ukraine           UA  \n3       UA-07  2024-11-03    21      Ukraine           UA  \n4       UA-18  2024-11-03    21      Ukraine           UA  \n5       UA-23  2024-11-03    21      Ukraine           UA  \n6       UA-26  2024-11-03    21      Ukraine           UA  \n7       UA-35  2024-11-03    21      Ukraine           UA  \n8       UA-56  2024-11-03    21      Ukraine           UA  \n9       UA-59  2024-11-03    21      Ukraine           UA  "
                    },
                    "execution_count": 1,
                    "metadata": {},
                    "output_type": "execute_result"
                }
            ],
            "source": "# The code was removed by Watson Studio for sharing."
        },
        {
            "cell_type": "code",
            "execution_count": null,
            "metadata": {
                "id": "d5886241-48e5-4a6d-8b5a-3e68c3b7d94d"
            },
            "outputs": [],
            "source": ""
        }
    ],
    "metadata": {
        "kernelspec": {
            "display_name": "Python 3.11",
            "language": "python",
            "name": "python3"
        },
        "language_info": {
            "codemirror_mode": {
                "name": "ipython",
                "version": 3
            },
            "file_extension": ".py",
            "mimetype": "text/x-python",
            "name": "python",
            "nbconvert_exporter": "python",
            "pygments_lexer": "ipython3",
            "version": "3.11.9"
        }
    },
    "nbformat": 4,
    "nbformat_minor": 4
}